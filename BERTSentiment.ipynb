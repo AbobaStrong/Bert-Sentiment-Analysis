{
  "cells": [
    {
      "cell_type": "code",
      "execution_count": null,
      "metadata": {
        "id": "LoEil1fTGtgm"
      },
      "outputs": [],
      "source": [
        "import os\n",
        "import kagglehub\n",
        "import pandas as pd\n",
        "from sklearn.model_selection import train_test_split\n",
        "from sklearn.metrics import precision_recall_fscore_support, accuracy_score, classification_report, confusion_matrix\n",
        "import torch\n",
        "from transformers import BertTokenizer, BertForSequenceClassification\n",
        "from torch.utils.data import DataLoader, TensorDataset\n",
        "from tqdm import tqdm\n",
        "from torch.optim import AdamW\n",
        "from matplotlib import pyplot as plt\n",
        "import seaborn as sns"
      ]
    },
    {
      "cell_type": "code",
      "execution_count": null,
      "metadata": {
        "colab": {
          "base_uri": "https://localhost:8080/"
        },
        "id": "qA4PwsBnJKpH",
        "outputId": "e4cdeeae-e434-451d-840d-b68aea7e84eb"
      },
      "outputs": [
        {
          "name": "stdout",
          "output_type": "stream",
          "text": [
            "Path to dataset files: C:\\Users\\egor1\\.cache\\kagglehub\\datasets\\kazanova\\sentiment140\\versions\\2\n"
          ]
        }
      ],
      "source": [
        "path = kagglehub.dataset_download(\"kazanova/sentiment140\")\n",
        "print(\"Path to dataset files:\", path)\n",
        "\n",
        "df = pd.read_csv(\n",
        "    r\"C:\\Users\\egor1\\.cache\\kagglehub\\datasets\\kazanova\\sentiment140\\versions\\2\\training.1600000.processed.noemoticon.csv\",\n",
        "    encoding='latin-1',\n",
        "    names=[\"target\",\"ids\",\"date\",\"flag\",\"user\",\"text\"]\n",
        ")"
      ]
    },
    {
      "cell_type": "code",
      "execution_count": null,
      "metadata": {
        "id": "7K_lEq6soUjl",
        "outputId": "595c4284-5e9f-4e58-acb8-6d0415be138d"
      },
      "outputs": [
        {
          "data": {
            "text/html": [
              "<div>\n",
              "<style scoped>\n",
              "    .dataframe tbody tr th:only-of-type {\n",
              "        vertical-align: middle;\n",
              "    }\n",
              "\n",
              "    .dataframe tbody tr th {\n",
              "        vertical-align: top;\n",
              "    }\n",
              "\n",
              "    .dataframe thead th {\n",
              "        text-align: right;\n",
              "    }\n",
              "</style>\n",
              "<table border=\"1\" class=\"dataframe\">\n",
              "  <thead>\n",
              "    <tr style=\"text-align: right;\">\n",
              "      <th></th>\n",
              "      <th>target</th>\n",
              "      <th>ids</th>\n",
              "      <th>date</th>\n",
              "      <th>flag</th>\n",
              "      <th>user</th>\n",
              "      <th>text</th>\n",
              "    </tr>\n",
              "  </thead>\n",
              "  <tbody>\n",
              "    <tr>\n",
              "      <th>1583880</th>\n",
              "      <td>4</td>\n",
              "      <td>2190489620</td>\n",
              "      <td>Tue Jun 16 02:52:46 PDT 2009</td>\n",
              "      <td>NO_QUERY</td>\n",
              "      <td>Nateprime</td>\n",
              "      <td>Brooke im glad you better i miss you!</td>\n",
              "    </tr>\n",
              "    <tr>\n",
              "      <th>763432</th>\n",
              "      <td>0</td>\n",
              "      <td>2298320760</td>\n",
              "      <td>Tue Jun 23 11:31:51 PDT 2009</td>\n",
              "      <td>NO_QUERY</td>\n",
              "      <td>miilene</td>\n",
              "      <td>going to the dmv</td>\n",
              "    </tr>\n",
              "    <tr>\n",
              "      <th>1223548</th>\n",
              "      <td>4</td>\n",
              "      <td>1990423771</td>\n",
              "      <td>Mon Jun 01 04:50:02 PDT 2009</td>\n",
              "      <td>NO_QUERY</td>\n",
              "      <td>sarafahey</td>\n",
              "      <td>@jacvanek You're gorgeous, and insanely awesome.</td>\n",
              "    </tr>\n",
              "    <tr>\n",
              "      <th>1487562</th>\n",
              "      <td>4</td>\n",
              "      <td>2068313109</td>\n",
              "      <td>Sun Jun 07 13:52:12 PDT 2009</td>\n",
              "      <td>NO_QUERY</td>\n",
              "      <td>taylorxjane</td>\n",
              "      <td>Out on a walk with the family</td>\n",
              "    </tr>\n",
              "    <tr>\n",
              "      <th>424823</th>\n",
              "      <td>0</td>\n",
              "      <td>2063189635</td>\n",
              "      <td>Sun Jun 07 01:41:44 PDT 2009</td>\n",
              "      <td>NO_QUERY</td>\n",
              "      <td>pinkpoopp</td>\n",
              "      <td>@thrila yeppe/.i hope i could share to you the...</td>\n",
              "    </tr>\n",
              "    <tr>\n",
              "      <th>1474682</th>\n",
              "      <td>4</td>\n",
              "      <td>2065768326</td>\n",
              "      <td>Sun Jun 07 09:15:07 PDT 2009</td>\n",
              "      <td>NO_QUERY</td>\n",
              "      <td>TheStarr</td>\n",
              "      <td>On my way   http://twitpic.com/6u2ld</td>\n",
              "    </tr>\n",
              "    <tr>\n",
              "      <th>285673</th>\n",
              "      <td>0</td>\n",
              "      <td>1993673485</td>\n",
              "      <td>Mon Jun 01 10:45:12 PDT 2009</td>\n",
              "      <td>NO_QUERY</td>\n",
              "      <td>itsdaveywhite</td>\n",
              "      <td>Dentists once again said my teeth aren't bad e...</td>\n",
              "    </tr>\n",
              "    <tr>\n",
              "      <th>732448</th>\n",
              "      <td>0</td>\n",
              "      <td>2264071745</td>\n",
              "      <td>Sun Jun 21 02:41:28 PDT 2009</td>\n",
              "      <td>NO_QUERY</td>\n",
              "      <td>AppleTreeThief</td>\n",
              "      <td>my timetable sucks - I have two humanities  my...</td>\n",
              "    </tr>\n",
              "    <tr>\n",
              "      <th>1111066</th>\n",
              "      <td>4</td>\n",
              "      <td>1972162595</td>\n",
              "      <td>Sat May 30 08:41:18 PDT 2009</td>\n",
              "      <td>NO_QUERY</td>\n",
              "      <td>BurningAngel21</td>\n",
              "      <td>I'm a voodoo child of the Goddess, slightly re...</td>\n",
              "    </tr>\n",
              "    <tr>\n",
              "      <th>485160</th>\n",
              "      <td>0</td>\n",
              "      <td>2181042012</td>\n",
              "      <td>Mon Jun 15 11:17:15 PDT 2009</td>\n",
              "      <td>NO_QUERY</td>\n",
              "      <td>Trannyyy</td>\n",
              "      <td>5 5 5 more dayssss! I miss home</td>\n",
              "    </tr>\n",
              "  </tbody>\n",
              "</table>\n",
              "</div>"
            ],
            "text/plain": [
              "         target         ids                          date      flag  \\\n",
              "1583880       4  2190489620  Tue Jun 16 02:52:46 PDT 2009  NO_QUERY   \n",
              "763432        0  2298320760  Tue Jun 23 11:31:51 PDT 2009  NO_QUERY   \n",
              "1223548       4  1990423771  Mon Jun 01 04:50:02 PDT 2009  NO_QUERY   \n",
              "1487562       4  2068313109  Sun Jun 07 13:52:12 PDT 2009  NO_QUERY   \n",
              "424823        0  2063189635  Sun Jun 07 01:41:44 PDT 2009  NO_QUERY   \n",
              "1474682       4  2065768326  Sun Jun 07 09:15:07 PDT 2009  NO_QUERY   \n",
              "285673        0  1993673485  Mon Jun 01 10:45:12 PDT 2009  NO_QUERY   \n",
              "732448        0  2264071745  Sun Jun 21 02:41:28 PDT 2009  NO_QUERY   \n",
              "1111066       4  1972162595  Sat May 30 08:41:18 PDT 2009  NO_QUERY   \n",
              "485160        0  2181042012  Mon Jun 15 11:17:15 PDT 2009  NO_QUERY   \n",
              "\n",
              "                   user                                               text  \n",
              "1583880       Nateprime             Brooke im glad you better i miss you!   \n",
              "763432          miilene                                  going to the dmv   \n",
              "1223548       sarafahey  @jacvanek You're gorgeous, and insanely awesome.   \n",
              "1487562     taylorxjane                     Out on a walk with the family   \n",
              "424823        pinkpoopp  @thrila yeppe/.i hope i could share to you the...  \n",
              "1474682        TheStarr               On my way   http://twitpic.com/6u2ld  \n",
              "285673    itsdaveywhite  Dentists once again said my teeth aren't bad e...  \n",
              "732448   AppleTreeThief  my timetable sucks - I have two humanities  my...  \n",
              "1111066  BurningAngel21  I'm a voodoo child of the Goddess, slightly re...  \n",
              "485160         Trannyyy                   5 5 5 more dayssss! I miss home   "
            ]
          },
          "execution_count": 7,
          "metadata": {},
          "output_type": "execute_result"
        }
      ],
      "source": [
        "df.sample(10)"
      ]
    },
    {
      "cell_type": "code",
      "execution_count": null,
      "metadata": {
        "id": "cO0lqPgaoUjm",
        "outputId": "4088fd47-2495-4937-9c65-85e1034afc70"
      },
      "outputs": [
        {
          "data": {
            "text/plain": [
              "target    0\n",
              "ids       0\n",
              "date      0\n",
              "flag      0\n",
              "user      0\n",
              "text      0\n",
              "dtype: int64"
            ]
          },
          "execution_count": 10,
          "metadata": {},
          "output_type": "execute_result"
        }
      ],
      "source": [
        "df.isna().sum()"
      ]
    },
    {
      "cell_type": "code",
      "execution_count": null,
      "metadata": {
        "id": "Y0D-yH98oUjm",
        "outputId": "f2c04a6d-c4d8-408b-f654-2461ee1b26a1"
      },
      "outputs": [
        {
          "data": {
            "text/plain": [
              "target\n",
              "0    800000\n",
              "4    800000\n",
              "Name: count, dtype: int64"
            ]
          },
          "execution_count": 9,
          "metadata": {},
          "output_type": "execute_result"
        }
      ],
      "source": [
        "df[\"target\"].value_counts()\n",
        "\n",
        "#классы сбалансированны"
      ]
    },
    {
      "cell_type": "code",
      "execution_count": null,
      "metadata": {
        "id": "A-ZXWJBWJNxi"
      },
      "outputs": [],
      "source": [
        "df['target'] = df['target'].replace(4, 1)\n",
        "\n",
        "train_texts, val_texts, train_labels, val_labels = train_test_split(\n",
        "    df[\"text\"].tolist(), df[\"target\"].tolist(), test_size=0.2, random_state=42\n",
        ")"
      ]
    },
    {
      "cell_type": "code",
      "execution_count": null,
      "metadata": {
        "id": "i2lsHI7qJZdM"
      },
      "outputs": [],
      "source": [
        "tokenizer = BertTokenizer.from_pretrained('bert-base-uncased')\n",
        "\n",
        "def tokenize_texts(texts, labels, max_length=128):\n",
        "    input_ids = []\n",
        "    attention_masks = []\n",
        "\n",
        "    for text in texts:\n",
        "        encoded_dict = tokenizer.encode_plus(\n",
        "            text,\n",
        "            add_special_tokens=True,\n",
        "            max_length=max_length,\n",
        "            padding='max_length',\n",
        "            truncation=True,\n",
        "            return_attention_mask=True,\n",
        "            return_tensors='pt'\n",
        "        )\n",
        "        input_ids.append(encoded_dict['input_ids'])\n",
        "        attention_masks.append(encoded_dict['attention_mask'])\n",
        "\n",
        "    input_ids = torch.cat(input_ids, dim=0)\n",
        "    attention_masks = torch.cat(attention_masks, dim=0)\n",
        "    labels = torch.tensor(labels)\n",
        "\n",
        "    return input_ids, attention_masks, labels\n",
        "\n",
        "train_input_ids, train_attention_masks, train_labels = tokenize_texts(train_texts, train_labels)\n",
        "val_input_ids, val_attention_masks, val_labels = tokenize_texts(val_texts, val_labels)"
      ]
    },
    {
      "cell_type": "code",
      "execution_count": null,
      "metadata": {
        "id": "IhK9kYJdJc1X"
      },
      "outputs": [],
      "source": [
        "train_dataset = TensorDataset(train_input_ids, train_attention_masks, train_labels)\n",
        "val_dataset = TensorDataset(val_input_ids, val_attention_masks, val_labels)\n",
        "\n",
        "batch_size = 16\n",
        "train_dataloader = DataLoader(train_dataset, shuffle=True, batch_size=batch_size)\n",
        "val_dataloader = DataLoader(val_dataset, batch_size=batch_size)"
      ]
    },
    {
      "cell_type": "code",
      "execution_count": null,
      "metadata": {
        "colab": {
          "base_uri": "https://localhost:8080/"
        },
        "id": "yFgVHrmSJh4R",
        "outputId": "6c905666-c748-44c4-d7a3-858f32005dab"
      },
      "outputs": [
        {
          "name": "stderr",
          "output_type": "stream",
          "text": [
            "Some weights of BertForSequenceClassification were not initialized from the model checkpoint at bert-base-uncased and are newly initialized: ['classifier.bias', 'classifier.weight']\n",
            "You should probably TRAIN this model on a down-stream task to be able to use it for predictions and inference.\n"
          ]
        }
      ],
      "source": [
        "model = BertForSequenceClassification.from_pretrained(\n",
        "    'bert-base-uncased',\n",
        "    num_labels=2,\n",
        "    output_attentions=False,\n",
        "    output_hidden_states=False\n",
        ")"
      ]
    },
    {
      "cell_type": "code",
      "execution_count": null,
      "metadata": {
        "colab": {
          "base_uri": "https://localhost:8080/"
        },
        "id": "SevuDvgBOd1x",
        "outputId": "f700b66b-a18b-43e3-e6c2-627386aed9b5"
      },
      "outputs": [
        {
          "name": "stdout",
          "output_type": "stream",
          "text": [
            "cuda\n"
          ]
        }
      ],
      "source": [
        "device = torch.device('cuda' if torch.cuda.is_available() else 'cpu')\n",
        "print(device)"
      ]
    },
    {
      "cell_type": "code",
      "execution_count": null,
      "metadata": {
        "colab": {
          "base_uri": "https://localhost:8080/"
        },
        "id": "olN48T7TOFw-",
        "outputId": "c4d5053f-bcf0-456e-cfa8-575c56e6b478"
      },
      "outputs": [
        {
          "name": "stderr",
          "output_type": "stream",
          "text": [
            "Epoch 1:   0%|          | 0/80000 [00:00<?, ?it/s]c:\\Users\\egor1\\VScodeProjects\\.venv\\Lib\\site-packages\\torch\\nn\\modules\\module.py:1762: FutureWarning: `encoder_attention_mask` is deprecated and will be removed in version 4.55.0 for `BertSdpaSelfAttention.forward`.\n",
            "  return forward_call(*args, **kwargs)\n",
            "Epoch 1: 100%|██████████| 80000/80000 [7:27:49<00:00,  2.98it/s]       \n"
          ]
        },
        {
          "name": "stdout",
          "output_type": "stream",
          "text": [
            "Average training loss: 0.3310743887219578\n"
          ]
        },
        {
          "name": "stderr",
          "output_type": "stream",
          "text": [
            "Epoch 2: 100%|██████████| 80000/80000 [6:03:10<00:00,  3.67it/s]    \n"
          ]
        },
        {
          "name": "stdout",
          "output_type": "stream",
          "text": [
            "Average training loss: 0.27864313631565313\n"
          ]
        },
        {
          "name": "stderr",
          "output_type": "stream",
          "text": [
            "Epoch 3: 100%|██████████| 80000/80000 [5:59:14<00:00,  3.71it/s]  "
          ]
        },
        {
          "name": "stdout",
          "output_type": "stream",
          "text": [
            "Average training loss: 0.23907276033764938\n"
          ]
        },
        {
          "name": "stderr",
          "output_type": "stream",
          "text": [
            "\n"
          ]
        }
      ],
      "source": [
        "optimizer = AdamW(model.parameters(), lr=2e-5)\n",
        "\n",
        "device = torch.device('cuda' if torch.cuda.is_available() else 'cpu')\n",
        "model.to(device)\n",
        "\n",
        "epochs = 3\n",
        "for epoch in range(epochs):\n",
        "    model.train()\n",
        "    total_loss = 0\n",
        "\n",
        "    for batch in tqdm(train_dataloader, desc=f'Epoch {epoch + 1}'):\n",
        "        batch = tuple(t.to(device) for t in batch)\n",
        "        inputs = {\n",
        "            'input_ids': batch[0],\n",
        "            'attention_mask': batch[1],\n",
        "            'labels': batch[2]\n",
        "        }\n",
        "\n",
        "        optimizer.zero_grad()\n",
        "        outputs = model(**inputs)\n",
        "        loss = outputs.loss\n",
        "        total_loss += loss.item()\n",
        "        loss.backward()\n",
        "        optimizer.step()\n",
        "\n",
        "    avg_train_loss = total_loss / len(train_dataloader)\n",
        "    print(f'Average training loss: {avg_train_loss}')"
      ]
    },
    {
      "cell_type": "code",
      "execution_count": null,
      "metadata": {
        "id": "yg8xHCuSoUjo"
      },
      "outputs": [],
      "source": [
        "#сохраняем модель и состояние оптимизатора\n",
        "output_dir = \"./saved_model/\"\n",
        "os.makedirs(output_dir, exist_ok=True)\n",
        "\n",
        "model.save_pretrained(output_dir)\n",
        "tokenizer.save_pretrained(output_dir)\n",
        "\n",
        "checkpoint = {\n",
        "    'epoch': epochs,\n",
        "    'model_state_dict': model.state_dict(),\n",
        "    'optimizer_state_dict': optimizer.state_dict(),\n",
        "    'loss': avg_train_loss,\n",
        "}\n",
        "torch.save(checkpoint, os.path.join(output_dir, \"checkpoint.pt\"))"
      ]
    },
    {
      "cell_type": "code",
      "execution_count": null,
      "metadata": {
        "id": "7vsOD8PUoUjo",
        "outputId": "7ed87ae7-01cd-45e7-b2d9-6a4f39b14be0"
      },
      "outputs": [
        {
          "data": {
            "text/plain": [
              "BertForSequenceClassification(\n",
              "  (bert): BertModel(\n",
              "    (embeddings): BertEmbeddings(\n",
              "      (word_embeddings): Embedding(30522, 768, padding_idx=0)\n",
              "      (position_embeddings): Embedding(512, 768)\n",
              "      (token_type_embeddings): Embedding(2, 768)\n",
              "      (LayerNorm): LayerNorm((768,), eps=1e-12, elementwise_affine=True)\n",
              "      (dropout): Dropout(p=0.1, inplace=False)\n",
              "    )\n",
              "    (encoder): BertEncoder(\n",
              "      (layer): ModuleList(\n",
              "        (0-11): 12 x BertLayer(\n",
              "          (attention): BertAttention(\n",
              "            (self): BertSdpaSelfAttention(\n",
              "              (query): Linear(in_features=768, out_features=768, bias=True)\n",
              "              (key): Linear(in_features=768, out_features=768, bias=True)\n",
              "              (value): Linear(in_features=768, out_features=768, bias=True)\n",
              "              (dropout): Dropout(p=0.1, inplace=False)\n",
              "            )\n",
              "            (output): BertSelfOutput(\n",
              "              (dense): Linear(in_features=768, out_features=768, bias=True)\n",
              "              (LayerNorm): LayerNorm((768,), eps=1e-12, elementwise_affine=True)\n",
              "              (dropout): Dropout(p=0.1, inplace=False)\n",
              "            )\n",
              "          )\n",
              "          (intermediate): BertIntermediate(\n",
              "            (dense): Linear(in_features=768, out_features=3072, bias=True)\n",
              "            (intermediate_act_fn): GELUActivation()\n",
              "          )\n",
              "          (output): BertOutput(\n",
              "            (dense): Linear(in_features=3072, out_features=768, bias=True)\n",
              "            (LayerNorm): LayerNorm((768,), eps=1e-12, elementwise_affine=True)\n",
              "            (dropout): Dropout(p=0.1, inplace=False)\n",
              "          )\n",
              "        )\n",
              "      )\n",
              "    )\n",
              "    (pooler): BertPooler(\n",
              "      (dense): Linear(in_features=768, out_features=768, bias=True)\n",
              "      (activation): Tanh()\n",
              "    )\n",
              "  )\n",
              "  (dropout): Dropout(p=0.1, inplace=False)\n",
              "  (classifier): Linear(in_features=768, out_features=2, bias=True)\n",
              ")"
            ]
          },
          "execution_count": 28,
          "metadata": {},
          "output_type": "execute_result"
        }
      ],
      "source": [
        "#загружаем обученную модель\n",
        "\n",
        "output_dir = \"./saved_model/\"\n",
        "model = BertForSequenceClassification.from_pretrained(output_dir)\n",
        "tokenizer = BertTokenizer.from_pretrained(output_dir)\n",
        "\n",
        "checkpoint = torch.load(os.path.join(output_dir, \"checkpoint.pt\"))\n",
        "model.load_state_dict(checkpoint['model_state_dict'])\n",
        "\n",
        "model.eval()"
      ]
    },
    {
      "cell_type": "code",
      "execution_count": null,
      "metadata": {
        "id": "hyCN_FqMoUjo"
      },
      "outputs": [],
      "source": [
        "def evaluate_model(val_dataloader, class_names=None):\n",
        "    device = torch.device(\"cuda\" if torch.cuda.is_available() else \"cpu\")\n",
        "    model.to(device)\n",
        "    model.eval()\n",
        "\n",
        "    all_predictions = []\n",
        "    all_labels = []\n",
        "    all_logits = []\n",
        "    all_texts = []\n",
        "\n",
        "    with torch.no_grad():\n",
        "        for batch in val_dataloader:\n",
        "            input_ids = batch[0].to(device)\n",
        "            attention_mask = batch[1].to(device)\n",
        "            labels = batch[2].to(device)\n",
        "\n",
        "            outputs = model(input_ids, attention_mask=attention_mask)\n",
        "            logits = outputs.logits\n",
        "            predictions = torch.argmax(logits, dim=1)\n",
        "\n",
        "            all_predictions.extend(predictions.cpu().numpy())\n",
        "            all_labels.extend(labels.cpu().numpy())\n",
        "            all_logits.append(logits.cpu())\n",
        "\n",
        "            if 'texts' in batch:\n",
        "                all_texts.extend(batch['texts'])\n",
        "\n",
        "    all_logits = torch.cat(all_logits, dim=0)\n",
        "\n",
        "    # cчитаем accuracy (классы сбалансированны), precision, recallm f1\n",
        "    accuracy = accuracy_score(all_labels, all_predictions)\n",
        "    precision, recall, f1, _ = precision_recall_fscore_support(all_labels, all_predictions, average=\"weighted\")\n",
        "\n",
        "    print(f\"Accuracy: {accuracy:.4f}\")\n",
        "    print(f\"Precision: {precision:.4f}\")\n",
        "    print(f\"Recall: {recall:.4f}\")\n",
        "    print(f\"F1 Score: {f1:.4f}\")\n",
        "    print(\"\\nClassification Report:\")\n",
        "    print(classification_report(all_labels, all_predictions, target_names=class_names if class_names is not None else None))\n",
        "\n",
        "    cm = confusion_matrix(all_labels, all_predictions)\n",
        "    plt.figure(figsize=(10,7))\n",
        "    sns.heatmap(cm, annot=True, fmt='d', cmap='Blues')\n",
        "    plt.title('Confusion Matrix')\n",
        "    plt.ylabel('True Label')\n",
        "    plt.xlabel('Predicted Label')\n",
        "    plt.show()\n",
        "\n",
        "    errors = []\n",
        "    if all_texts:\n",
        "        for i, (text, true_label, pred_label) in enumerate(zip(all_texts, all_labels, all_predictions)):\n",
        "            if true_label != pred_label:\n",
        "                errors.append({\n",
        "                    \"text\": text,\n",
        "                    \"true_label\": true_label,\n",
        "                    \"predicted_label\": pred_label,\n",
        "                    \"probabilities\": torch.softmax(all_logits[i], dim=0).numpy()\n",
        "                })\n",
        "\n",
        "    errors_df = pd.DataFrame(errors) if errors else pd.DataFrame()\n",
        "\n",
        "    # топ-5 текстов с наибольшей уверенностью в ошибке\n",
        "    if not errors_df.empty:\n",
        "        errors_df['confidence'] = errors_df.apply(lambda x: x['probabilities'][x['predicted_label']], axis=1)\n",
        "        print(\"\\nTop 5 errors with highest confidence:\")\n",
        "        print(errors_df.sort_values('confidence', ascending=False).head(5))\n",
        "\n",
        "    return {\n",
        "        \"accuracy\": accuracy,\n",
        "        \"precision\": precision,\n",
        "        \"recall\": recall,\n",
        "        \"f1\": f1,\n",
        "        \"errors\": errors_df\n",
        "    }"
      ]
    },
    {
      "cell_type": "code",
      "execution_count": null,
      "metadata": {
        "id": "V97C_qXAOH4k",
        "outputId": "3ba139a9-2b58-4bbe-e18a-377db2a03b56"
      },
      "outputs": [
        {
          "name": "stderr",
          "output_type": "stream",
          "text": [
            "c:\\Users\\egor1\\VScodeProjects\\.venv\\Lib\\site-packages\\torch\\nn\\modules\\module.py:1762: FutureWarning: `encoder_attention_mask` is deprecated and will be removed in version 4.55.0 for `BertSdpaSelfAttention.forward`.\n",
            "  return forward_call(*args, **kwargs)\n"
          ]
        },
        {
          "name": "stdout",
          "output_type": "stream",
          "text": [
            "Accuracy: 0.8696\n",
            "Precision: 0.8696\n",
            "Recall: 0.8696\n",
            "F1 Score: 0.8696\n",
            "\n",
            "Classification Report:\n",
            "              precision    recall  f1-score   support\n",
            "\n",
            "    Positive       0.87      0.87      0.87    159494\n",
            "    Negative       0.87      0.87      0.87    160506\n",
            "\n",
            "    accuracy                           0.87    320000\n",
            "   macro avg       0.87      0.87      0.87    320000\n",
            "weighted avg       0.87      0.87      0.87    320000\n",
            "\n"
          ]
        },
        {
          "data": {
            "image/png": "[encoded data removed]",
            "text/plain": [
              "<Figure size 1000x700 with 2 Axes>"
            ]
          },
          "metadata": {},
          "output_type": "display_data"
        },
        {
          "name": "stdout",
          "output_type": "stream",
          "text": [
            "{'accuracy': 0.8696125, 'precision': 0.8696169329868643, 'recall': 0.8696125, 'f1': 0.8696128245435609, 'errors': Empty DataFrame\n",
            "Columns: []\n",
            "Index: []}\n"
          ]
        }
      ],
      "source": [
        "result = evaluate_model(val_dataloader, class_names=[\"Positive\", \"Negative\"])"
      ]
    },
    {
      "cell_type": "markdown",
      "metadata": {
        "id": "9XvnfjcioUjp"
      },
      "source": [
        "Совпадение метрик (accuracy = precision = recall = F1) обусловлено симметричностью confusion matrix и идеальным балансом классов в валидационной выборке, что приводит к равенству TP/(TP+FP) (precision) и TP/(TP+FN) (recall) при равных значениях FP и FN."
      ]
    },
    {
      "cell_type": "code",
      "execution_count": null,
      "metadata": {
        "id": "__2noVyiOMqL"
      },
      "outputs": [],
      "source": [
        "def predict_sentiment(text):\n",
        "    encoded_dict = tokenizer.encode_plus(\n",
        "        text,\n",
        "        add_special_tokens=True,\n",
        "        max_length=128,\n",
        "        padding='max_length',\n",
        "        truncation=True,\n",
        "        return_attention_mask=True,\n",
        "        return_tensors='pt'\n",
        "    )\n",
        "\n",
        "    input_ids = encoded_dict['input_ids'].to(device)\n",
        "    attention_mask = encoded_dict['attention_mask'].to(device)\n",
        "\n",
        "    with torch.no_grad():\n",
        "        outputs = model(input_ids, attention_mask=attention_mask)\n",
        "\n",
        "    prediction = torch.argmax(outputs.logits, dim=1).item()\n",
        "    return \"Positive\" if prediction == 1 else \"Negative\""
      ]
    },
    {
      "cell_type": "code",
      "execution_count": null,
      "metadata": {
        "id": "B77MvoQVoUjp",
        "outputId": "ffe2d535-1637-4cf4-e3b6-3bb8324d9d7e"
      },
      "outputs": [
        {
          "name": "stdout",
          "output_type": "stream",
          "text": [
            "Sample text: 'I love this movie. Its fantastic '\n",
            "Predicted sentiment: Positive\n"
          ]
        }
      ],
      "source": [
        "sample_text = \"I love this movie. Its fantastic\"\n",
        "print(f\"Sample text: '{sample_text}'\")\n",
        "print(f\"Predicted sentiment: {predict_sentiment(sample_text)}\")"
      ]
    },
    {
      "cell_type": "code",
      "execution_count": null,
      "metadata": {
        "id": "JNJG7oBhoUjq",
        "outputId": "54885847-c07e-4875-de57-8cf93fdddd9a"
      },
      "outputs": [
        {
          "name": "stdout",
          "output_type": "stream",
          "text": [
            "Sample text: 'I like this movie so much that I'm ready to gouge out my eyes so I never have to see it again. '\n",
            "Predicted sentiment: Positive\n"
          ]
        }
      ],
      "source": [
        "sample_text = \"I like this movie so much that I'm ready to gouge out my eyes so I never have to see it again. \" # Мне нравится этот фильм настолько, что я готов выколоть свои глаза, чтобы никогда его не видеть\n",
        "print(f\"Sample text: '{sample_text}'\")\n",
        "print(f\"Predicted sentiment: {predict_sentiment(sample_text)}\")"
      ]
    },
    {
      "cell_type": "markdown",
      "metadata": {
        "id": "Ff5ZfaaBoUjq"
      },
      "source": [
        "Очевидно, что модель не понимает сарказма, это проблема, но хотя бы распознаёт негативные/позитивные слова"
      ]
    }
  ],
  "metadata": {
    "accelerator": "GPU",
    "colab": {
      "gpuType": "T4",
      "provenance": []
    },
    "kernelspec": {
      "display_name": ".venv (3.13.0)",
      "language": "python",
      "name": "python3"
    },
    "language_info": {
      "codemirror_mode": {
        "name": "ipython",
        "version": 3
      },
      "file_extension": ".py",
      "mimetype": "text/x-python",
      "name": "python",
      "nbconvert_exporter": "python",
      "pygments_lexer": "ipython3",
      "version": "3.13.0"
    }
  },
  "nbformat": 4,
  "nbformat_minor": 0
}